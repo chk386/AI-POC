{
 "cells": [
  {
   "cell_type": "markdown",
   "metadata": {},
   "source": [
    "```bash\n",
    " iopaint start --model=lama --device=mps --port=8080 --enable-remove-bg  --enable-interactive-seg --interactive-seg-device=mps --enable-gfpgan  --enable-realesrgan --enable-anime-seg --enable-restoreformer\n",
    "```\n",
    "\n",
    "- enable-restoreformer : 저화질 -> 고화질\n",
    "- enable-gfpgan : 얼굴 복원\n",
    "- enable-realesrgan : 높은 해상도로 업스케일\n",
    "- enable-anime-seg : 에니메이션 세그멘테이션\n"
   ]
  },
  {
   "cell_type": "code",
   "execution_count": null,
   "metadata": {},
   "outputs": [],
   "source": [
    "import cv2\n",
    "import numpy as np\n",
    "import time\n",
    "from PIL import Image\n",
    "\n",
    "image, alpha_channel, infos, ext = decode_base64_to_image(req.image)\n",
    "mask, _, _, _ = decode_base64_to_image(req.mask, gray=True)\n",
    "print(f\"image ext: {ext}\")\n",
    "\n",
    "mask = cv2.threshold(mask, 127, 255, cv2.THRESH_BINARY)[1]\n",
    "if image.shape[:2] != mask.shape[:2]:\n",
    "    raise HTTPException(\n",
    "        400,\n",
    "        detail=f\"Image size({image.shape[:2]}) and mask size({mask.shape[:2]}) not match.\",\n",
    "    )\n",
    "\n",
    "start = time.time()\n",
    "rgb_np_img = self.model_manager(image, mask, req)\n",
    "logger.info(f\"process time: {(time.time() - start) * 1000:.2f}ms\")\n",
    "torch_gc()\n",
    "\n",
    "rgb_np_img = cv2.cvtColor(rgb_np_img.astype(np.uint8), cv2.COLOR_BGR2RGB)\n",
    "rgb_res = concat_alpha_channel(rgb_np_img, alpha_channel)\n",
    "\n",
    "res_img_bytes = pil_to_bytes(\n",
    "    Image.fromarray(rgb_res),\n",
    "    ext=ext,\n",
    "    quality=self.config.quality,\n",
    "    infos=infos,\n",
    ")\n",
    "\n",
    "asyncio.run(self.sio.emit(\"diffusion_finish\"))\n",
    "\n",
    "return Response(\n",
    "    content=res_img_bytes,\n",
    "    media_type=f\"image/{ext}\",\n",
    "    headers={\"X-Seed\": str(req.sd_seed)},\n",
    ")"
   ]
  }
 ],
 "metadata": {
  "kernelspec": {
   "display_name": ".venv",
   "language": "python",
   "name": "python3"
  },
  "language_info": {
   "codemirror_mode": {
    "name": "ipython",
    "version": 3
   },
   "file_extension": ".py",
   "mimetype": "text/x-python",
   "name": "python",
   "nbconvert_exporter": "python",
   "pygments_lexer": "ipython3",
   "version": "3.11.0"
  }
 },
 "nbformat": 4,
 "nbformat_minor": 2
}
